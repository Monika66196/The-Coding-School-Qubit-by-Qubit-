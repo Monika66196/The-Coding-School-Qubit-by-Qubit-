{
 "cells": [
  {
   "cell_type": "markdown",
   "id": "d2497f68-e565-4dec-8d5e-ec337e37128e",
   "metadata": {
    "id": "d2497f68-e565-4dec-8d5e-ec337e37128e"
   },
   "source": [
    "# Homework: Week #6\n",
    "---\n",
    "\n",
    "In this week's homework, you will create and simulate quantum circuits involving the Z gate, multi-qubit circuits, and mulit-qubit gates.\n",
    "\n",
    "\n",
    "##### **NOTE: You must answer the multiple choice questions on Canvas based on your work below to receive credit this week.**\n",
    "\n",
    "<br>\n",
    "\n",
    "### **Cheat Sheet**:  [Qiskit Cheat Sheet](https://docs.google.com/document/d/1GArKBUksi4pMgcEBc4OpvWp2KREPpnQvq0AgyijJnkI/edit?usp=share_link)\n",
    "---"
   ]
  },
  {
   "cell_type": "markdown",
   "id": "k0Lsovb5VOKP",
   "metadata": {
    "id": "k0Lsovb5VOKP",
    "tags": []
   },
   "source": [
    "## **Part 0: Importing from Qiskit**\n",
    "---\n",
    "\n",
    "Run the cell directly below before doing anything else. This will import all of the functions that we will use today."
   ]
  },
  {
   "cell_type": "code",
   "execution_count": 2,
   "id": "LxC62c-hRcYv",
   "metadata": {
    "id": "LxC62c-hRcYv"
   },
   "outputs": [
    {
     "name": "stdout",
     "output_type": "stream",
     "text": [
      "Libraries imported successfully!\n"
     ]
    }
   ],
   "source": [
    "# Importing standard Qiskit libraries\n",
    "from qiskit import QuantumCircuit  #Importing the QuantumCircuit function from Qiskit. We will use this to create our quantum circuits!\n",
    "\n",
    "# We will use these functions to run our circuit and visualize its final state\n",
    "from qiskit import Aer, execute \n",
    "from qiskit.visualization import *\n",
    "\n",
    "import warnings  # We are using this library to suppress some warning messages\n",
    "warnings.filterwarnings(\"ignore\")\n",
    "\n",
    "print(\"Libraries imported successfully!\")"
   ]
  },
  {
   "cell_type": "markdown",
   "id": "sVwVviQORgWa",
   "metadata": {
    "id": "sVwVviQORgWa",
    "tags": []
   },
   "source": [
    "## **Part 1: Single Qubit Circuit Practice**\n",
    "---"
   ]
  },
  {
   "cell_type": "markdown",
   "id": "ZSIQ0dQRR5C4",
   "metadata": {
    "id": "ZSIQ0dQRR5C4"
   },
   "source": [
    "#### **Exercise #1** \n",
    "\n",
    "Create and draw a 1-qubit/1-classical bit circuit in which you apply the gates listed below and measure the qubit and store the result in the classical bit.\n",
    "\n",
    "**Gates**:\n",
    "\n",
    "**Z**"
   ]
  },
  {
   "cell_type": "code",
   "execution_count": 3,
   "id": "R_uEliZqR_TH",
   "metadata": {
    "id": "R_uEliZqR_TH"
   },
   "outputs": [
    {
     "data": {
      "image/png": "[encoded data removed]",
      "text/plain": [
       "<Figure size 193.726x144.48 with 1 Axes>"
      ]
     },
     "execution_count": 3,
     "metadata": {},
     "output_type": "execute_result"
    }
   ],
   "source": [
    "qc = QuantumCircuit(1, 1)\n",
    "qc.z(0)\n",
    "\n",
    "qc.measure(0,0)\n",
    "qc.draw()"
   ]
  },
  {
   "cell_type": "markdown",
   "id": "Kxpn3cSVRdu1",
   "metadata": {
    "id": "Kxpn3cSVRdu1"
   },
   "source": [
    "#### **Exercise #2** \n",
    "\n",
    "Create and draw a 1-qubit/1-classical bit circuit in which you apply the gates listed below and measure the qubit and store the result in the classical bit. Run the simulator code below to see what measurements results you get.\n",
    "\n",
    "**Gates**:\n",
    "\n",
    "**Z**"
   ]
  },
  {
   "cell_type": "code",
   "execution_count": 5,
   "id": "TUjAbWT7Rdu3",
   "metadata": {
    "id": "TUjAbWT7Rdu3"
   },
   "outputs": [
    {
     "data": {
      "image/png": "[encoded data removed]",
      "text/plain": [
       "<Figure size 193.726x144.48 with 1 Axes>"
      ]
     },
     "execution_count": 5,
     "metadata": {},
     "output_type": "execute_result"
    }
   ],
   "source": [
    "qc = QuantumCircuit(1, 1)\n",
    "qc.z(0)\n",
    "\n",
    "qc.measure(0,0)\n",
    "qc.draw()"
   ]
  },
  {
   "cell_type": "code",
   "execution_count": 6,
   "id": "D3orZU9ZRmWJ",
   "metadata": {
    "id": "D3orZU9ZRmWJ"
   },
   "outputs": [
    {
     "data": {
      "image/png": "[encoded data removed]",
      "text/plain": [
       "<Figure size 504x360 with 1 Axes>"
      ]
     },
     "execution_count": 6,
     "metadata": {},
     "output_type": "execute_result"
    }
   ],
   "source": [
    "# Simulate using QASM\n",
    "backend = Aer.get_backend('qasm_simulator')\n",
    "job = execute(qc, backend = backend, shots = 1024)  # Make sure you change \"qc\" to the name of your quantum circuit in this line!\n",
    "result = job.result()\n",
    "counts = result.get_counts()\n",
    "plot_histogram(counts)"
   ]
  },
  {
   "cell_type": "markdown",
   "id": "QvceebSXRpZ6",
   "metadata": {
    "id": "QvceebSXRpZ6"
   },
   "source": [
    "#### **Exercise #3** \n",
    "\n",
    "Create and draw a 1-qubit/1-classical bit circuit in which you apply the gates listed below and measure the qubit and store the result in the classical bit. Run the simulator code below to see what measurements results you get.\n",
    "\n",
    "**Gates**:\n",
    "\n",
    "**H**\n",
    "\n",
    "**Z**"
   ]
  },
  {
   "cell_type": "code",
   "execution_count": 7,
   "id": "3s8KDQDHRpZ7",
   "metadata": {
    "id": "3s8KDQDHRpZ7"
   },
   "outputs": [
    {
     "data": {
      "image/png": "[encoded data removed]",
      "text/plain": [
       "<Figure size 253.926x144.48 with 1 Axes>"
      ]
     },
     "execution_count": 7,
     "metadata": {},
     "output_type": "execute_result"
    }
   ],
   "source": [
    "qc = QuantumCircuit(1, 1)\n",
    "qc.h(0)\n",
    "qc.z(0)\n",
    "\n",
    "qc.measure(0,0)\n",
    "qc.draw()"
   ]
  },
  {
   "cell_type": "code",
   "execution_count": 8,
   "id": "7iDlqlETRpZ8",
   "metadata": {
    "id": "7iDlqlETRpZ8"
   },
   "outputs": [
    {
     "data": {
      "image/png": "[encoded data removed]",
      "text/plain": [
       "<Figure size 504x360 with 1 Axes>"
      ]
     },
     "execution_count": 8,
     "metadata": {},
     "output_type": "execute_result"
    }
   ],
   "source": [
    "# Simulate using QASM\n",
    "backend = Aer.get_backend('qasm_simulator')\n",
    "job = execute(qc, backend = backend, shots = 1024)  # Make sure you change \"qc\" to the name of your quantum circuit in this line!\n",
    "result = job.result()\n",
    "counts = result.get_counts()\n",
    "plot_histogram(counts)"
   ]
  },
  {
   "cell_type": "markdown",
   "id": "JlLW2GWhRw17",
   "metadata": {
    "id": "JlLW2GWhRw17"
   },
   "source": [
    "#### **Exercise #4** \n",
    "\n",
    "Create and draw a 1-qubit/1-classical bit circuit in which you apply the gates listed below and measure the qubit and store the result in the classical bit. Run the simulator code below to see what measurements results you get.\n",
    "\n",
    "**Gates**:\n",
    "\n",
    "**H**\n",
    "\n",
    "**Z**\n",
    "\n",
    "**H**"
   ]
  },
  {
   "cell_type": "code",
   "execution_count": 9,
   "id": "3JJ7tPqzRw17",
   "metadata": {
    "id": "3JJ7tPqzRw17"
   },
   "outputs": [
    {
     "data": {
      "image/png": "[encoded data removed]",
      "text/plain": [
       "<Figure size 314.126x144.48 with 1 Axes>"
      ]
     },
     "execution_count": 9,
     "metadata": {},
     "output_type": "execute_result"
    }
   ],
   "source": [
    "qc = QuantumCircuit(1, 1)\n",
    "qc.h(0)\n",
    "qc.z(0)\n",
    "qc.h(0)\n",
    "qc.measure(0,0)\n",
    "qc.draw()"
   ]
  },
  {
   "cell_type": "code",
   "execution_count": 10,
   "id": "hi5DeID1Rw18",
   "metadata": {
    "id": "hi5DeID1Rw18"
   },
   "outputs": [
    {
     "data": {
      "image/png": "[encoded data removed]",
      "text/plain": [
       "<Figure size 504x360 with 1 Axes>"
      ]
     },
     "execution_count": 10,
     "metadata": {},
     "output_type": "execute_result"
    }
   ],
   "source": [
    "# Simulate using QASM\n",
    "backend = Aer.get_backend('qasm_simulator')\n",
    "job = execute(qc, backend = backend, shots = 1024)  # Make sure you change \"qc\" to the name of your quantum circuit in this line!\n",
    "result = job.result()\n",
    "counts = result.get_counts()\n",
    "plot_histogram(counts)"
   ]
  },
  {
   "cell_type": "markdown",
   "id": "SsJ-fAmgRKW5",
   "metadata": {
    "id": "SsJ-fAmgRKW5",
    "tags": []
   },
   "source": [
    "## **Part 2: Multi-Qubit Circuit Practice**\n",
    "---"
   ]
  },
  {
   "cell_type": "markdown",
   "id": "V6z5IvWbR946",
   "metadata": {
    "id": "V6z5IvWbR946"
   },
   "source": [
    "#### **Exercise #1** \n",
    "\n",
    "Create and draw a 2-qubit/2-classical bit circuit in which you apply the gates listed below and measure the qubits. Run the simulator code below to see what measurements results you get.\n",
    "\n",
    "**Gates**:\n",
    "\n",
    "**X on qubit 0**"
   ]
  },
  {
   "cell_type": "code",
   "execution_count": 13,
   "id": "1gXdk67mR948",
   "metadata": {
    "id": "1gXdk67mR948"
   },
   "outputs": [
    {
     "data": {
      "image/png": "[encoded data removed]",
      "text/plain": [
       "<Figure size 206.852x204.68 with 1 Axes>"
      ]
     },
     "execution_count": 13,
     "metadata": {},
     "output_type": "execute_result"
    }
   ],
   "source": [
    "qc = QuantumCircuit(2,2)\n",
    "qc.x(0)\n",
    "\n",
    "qc.measure([0,1] , [0,1])\n",
    "qc.draw()"
   ]
  },
  {
   "cell_type": "code",
   "execution_count": 14,
   "id": "F-BQHNGnR948",
   "metadata": {
    "id": "F-BQHNGnR948"
   },
   "outputs": [
    {
     "data": {
      "image/png": "[encoded data removed]",
      "text/plain": [
       "<Figure size 504x360 with 1 Axes>"
      ]
     },
     "execution_count": 14,
     "metadata": {},
     "output_type": "execute_result"
    }
   ],
   "source": [
    "# Simulate using QASM\n",
    "backend = Aer.get_backend('qasm_simulator')\n",
    "job = execute(qc, backend = backend, shots = 1024)  # Make sure you change \"qc\" to the name of your quantum circuit in this line!\n",
    "result = job.result()\n",
    "counts = result.get_counts()\n",
    "plot_histogram(counts)"
   ]
  },
  {
   "cell_type": "markdown",
   "id": "cAAE11Z8SOId",
   "metadata": {
    "id": "cAAE11Z8SOId"
   },
   "source": [
    "#### **Exercise #2** \n",
    "\n",
    "Create and draw a 2-qubit/2-classical bit circuit in which you apply the gates listed below and measure the qubits. Run the simulator code below to see what measurements results you get.\n",
    "\n",
    "**Gates**:\n",
    "\n",
    "**H on qubit 0**\n",
    "\n",
    "**X on qubit 1**"
   ]
  },
  {
   "cell_type": "code",
   "execution_count": 16,
   "id": "AAlu_nuMSOId",
   "metadata": {
    "id": "AAlu_nuMSOId"
   },
   "outputs": [
    {
     "data": {
      "image/png": "[encoded data removed]",
      "text/plain": [
       "<Figure size 267.052x204.68 with 1 Axes>"
      ]
     },
     "execution_count": 16,
     "metadata": {},
     "output_type": "execute_result"
    }
   ],
   "source": [
    "qc = QuantumCircuit(2, 2)\n",
    "qc.h(0)\n",
    "qc.x(1)\n",
    "qc.measure([0,1], [0,1])\n",
    "qc.draw()"
   ]
  },
  {
   "cell_type": "code",
   "execution_count": 17,
   "id": "tsbLLBc-SOIe",
   "metadata": {
    "id": "tsbLLBc-SOIe"
   },
   "outputs": [
    {
     "data": {
      "image/png": "[encoded data removed]",
      "text/plain": [
       "<Figure size 504x360 with 1 Axes>"
      ]
     },
     "execution_count": 17,
     "metadata": {},
     "output_type": "execute_result"
    }
   ],
   "source": [
    "# Simulate using QASM\n",
    "backend = Aer.get_backend('qasm_simulator')\n",
    "job = execute(qc, backend = backend, shots = 1024)  # Make sure you change \"qc\" to the name of your quantum circuit in this line!\n",
    "result = job.result()\n",
    "counts = result.get_counts()\n",
    "plot_histogram(counts)"
   ]
  },
  {
   "cell_type": "markdown",
   "id": "yOGr4pAaSZoq",
   "metadata": {
    "id": "yOGr4pAaSZoq"
   },
   "source": [
    "#### **Exercise #3** \n",
    "\n",
    "Create and draw a 2-qubit/2-classical bit circuit in which you apply the gates listed below and measure the qubits. Run the simulator code below to see what measurements results you get.\n",
    "\n",
    "**Gates**:\n",
    "\n",
    "**X on qubit 0**\n",
    "\n",
    "**CX with qubit 0 as the control qubit and qubit 1 as the target qubit**"
   ]
  },
  {
   "cell_type": "code",
   "execution_count": 18,
   "id": "zNTu7jM5SZor",
   "metadata": {
    "id": "zNTu7jM5SZor"
   },
   "outputs": [
    {
     "data": {
      "image/png": "[encoded data removed]",
      "text/plain": [
       "<Figure size 327.252x204.68 with 1 Axes>"
      ]
     },
     "execution_count": 18,
     "metadata": {},
     "output_type": "execute_result"
    }
   ],
   "source": [
    "qc = QuantumCircuit(2, 2)\n",
    "qc.x(0)\n",
    "qc.cx(0,1)\n",
    "qc.measure([0,1], [0,1])\n",
    "qc.draw()"
   ]
  },
  {
   "cell_type": "code",
   "execution_count": 19,
   "id": "rf6uVmz4SZos",
   "metadata": {
    "id": "rf6uVmz4SZos"
   },
   "outputs": [
    {
     "data": {
      "image/png": "[encoded data removed]",
      "text/plain": [
       "<Figure size 504x360 with 1 Axes>"
      ]
     },
     "execution_count": 19,
     "metadata": {},
     "output_type": "execute_result"
    }
   ],
   "source": [
    "# Simulate using QASM\n",
    "backend = Aer.get_backend('qasm_simulator')\n",
    "job = execute(qc, backend = backend, shots = 1024)  # Make sure you change \"qc\" to the name of your quantum circuit in this line!\n",
    "result = job.result()\n",
    "counts = result.get_counts()\n",
    "plot_histogram(counts)"
   ]
  },
  {
   "cell_type": "markdown",
   "id": "dpAWxfKLSmCf",
   "metadata": {
    "id": "dpAWxfKLSmCf"
   },
   "source": [
    "#### **Exercise #4** \n",
    "\n",
    "Create and draw a 2-qubit/2-classical bit circuit in which you apply the gates listed below and measure the qubits. Run the simulator code below to see what measurements results you get.\n",
    "\n",
    "**Gates**:\n",
    "\n",
    "**X on qubit 0**\n",
    "\n",
    "**H on qubit 0**\n",
    "\n",
    "**CX with qubit 0 as the control qubit and qubit 1 as the target qubit**"
   ]
  },
  {
   "cell_type": "code",
   "execution_count": 20,
   "id": "CkRo4T_WSmCg",
   "metadata": {
    "id": "CkRo4T_WSmCg"
   },
   "outputs": [
    {
     "data": {
      "image/png": "[encoded data removed]",
      "text/plain": [
       "<Figure size 387.452x204.68 with 1 Axes>"
      ]
     },
     "execution_count": 20,
     "metadata": {},
     "output_type": "execute_result"
    }
   ],
   "source": [
    "qc = QuantumCircuit(2, 2)\n",
    "qc.x(0)\n",
    "qc.h(0)\n",
    "qc.cx(0,1)\n",
    "qc.measure([0,1], [0,1])\n",
    "qc.draw()"
   ]
  },
  {
   "cell_type": "code",
   "execution_count": 22,
   "id": "bmJQnuQ1SmCh",
   "metadata": {
    "id": "bmJQnuQ1SmCh"
   },
   "outputs": [
    {
     "data": {
      "image/png": "[encoded data removed]",
      "text/plain": [
       "<Figure size 504x360 with 1 Axes>"
      ]
     },
     "execution_count": 22,
     "metadata": {},
     "output_type": "execute_result"
    }
   ],
   "source": [
    "# Simulate using QASM\n",
    "backend = Aer.get_backend('qasm_simulator')\n",
    "job = execute(qc, backend = backend, shots = 1024)  # Make sure you change \"qc\" to the name of your quantum circuit in this line!\n",
    "result = job.result()\n",
    "counts = result.get_counts()\n",
    "plot_histogram(counts)"
   ]
  },
  {
   "cell_type": "markdown",
   "id": "gxghNMSoSvVS",
   "metadata": {
    "id": "gxghNMSoSvVS"
   },
   "source": [
    "#### **Exercise #5** \n",
    "\n",
    "Create and draw a 3-qubit/3-classical bit circuit in which you apply the gates listed below and measure the qubits. Run the simulator code below to see what measurements results you get. **Remember to measure all 3 qubits.**\n",
    "\n",
    "**Gates**:\n",
    "\n",
    "**H on qubit 0**\n",
    "\n",
    "**CX with qubit 0 as the control qubit and qubit 1 as the target qubit**\n",
    "\n",
    "**CX with qubit 1 as the control qubit and qubit 2 as the target qubit**"
   ]
  },
  {
   "cell_type": "code",
   "execution_count": 26,
   "id": "b1Lff2JZSvVT",
   "metadata": {
    "id": "b1Lff2JZSvVT"
   },
   "outputs": [
    {
     "data": {
      "image/png": "[encoded data removed]",
      "text/plain": [
       "<Figure size 447.797x264.88 with 1 Axes>"
      ]
     },
     "execution_count": 26,
     "metadata": {},
     "output_type": "execute_result"
    }
   ],
   "source": [
    "qc = QuantumCircuit(3, 3)\n",
    "qc.h(0)\n",
    "qc.cx(0,1)\n",
    "qc.cx(1,2)\n",
    "qc.measure([0,1,2], [0,1,2])\n",
    "qc.draw()"
   ]
  },
  {
   "cell_type": "code",
   "execution_count": 27,
   "id": "c67N39D1SvVT",
   "metadata": {
    "id": "c67N39D1SvVT"
   },
   "outputs": [
    {
     "data": {
      "image/png": "[encoded data removed]",
      "text/plain": [
       "<Figure size 504x360 with 1 Axes>"
      ]
     },
     "execution_count": 27,
     "metadata": {},
     "output_type": "execute_result"
    }
   ],
   "source": [
    "# Simulate using QASM\n",
    "backend = Aer.get_backend('qasm_simulator')\n",
    "job = execute(qc, backend = backend, shots = 1024)  # Make sure you change \"qc\" to the name of your quantum circuit in this line!\n",
    "result = job.result()\n",
    "counts = result.get_counts()\n",
    "plot_histogram(counts)"
   ]
  },
  {
   "cell_type": "markdown",
   "id": "RvMzcyVjTTr8",
   "metadata": {
    "id": "RvMzcyVjTTr8"
   },
   "source": [
    "#### **Exercise #6** \n",
    "\n",
    "Create and draw a 3-qubit/3-classical bit circuit in which you apply the gates listed below and measure the qubits. Run the simulator code below to see what measurements results you get. **Remember to measure all 3 qubits.**\n",
    "\n",
    "**Gates (in the order listed)**:\n",
    "\n",
    "**H on qubit 0**\n",
    "\n",
    "**CX with qubit 0 as the control qubit and qubit 1 as the target qubit**\n",
    "\n",
    "**CX with qubit 1 as the control qubit and qubit 2 as the target qubit**\n",
    "\n",
    "\n",
    "**H on qubit 2**"
   ]
  },
  {
   "cell_type": "code",
   "execution_count": 28,
   "id": "oF7u-tVnTTr9",
   "metadata": {
    "id": "oF7u-tVnTTr9"
   },
   "outputs": [
    {
     "data": {
      "image/png": "[encoded data removed]",
      "text/plain": [
       "<Figure size 507.997x264.88 with 1 Axes>"
      ]
     },
     "execution_count": 28,
     "metadata": {},
     "output_type": "execute_result"
    }
   ],
   "source": [
    "qc = QuantumCircuit(3, 3)\n",
    "qc.h(0)\n",
    "qc.cx(0,1)\n",
    "qc.cx(1,2)\n",
    "qc.h(2)\n",
    "qc.measure([0,1,2], [0,1,2])\n",
    "qc.draw()"
   ]
  },
  {
   "cell_type": "code",
   "execution_count": 29,
   "id": "sZah8oR_TTr-",
   "metadata": {
    "id": "sZah8oR_TTr-"
   },
   "outputs": [
    {
     "data": {
      "image/png": "[encoded data removed]",
      "text/plain": [
       "<Figure size 504x360 with 1 Axes>"
      ]
     },
     "execution_count": 29,
     "metadata": {},
     "output_type": "execute_result"
    }
   ],
   "source": [
    "# Simulate using QASM\n",
    "backend = Aer.get_backend('qasm_simulator')\n",
    "job = execute(qc, backend = backend, shots = 1024)  # Make sure you change \"qc\" to the name of your quantum circuit in this line!\n",
    "result = job.result()\n",
    "counts = result.get_counts()\n",
    "plot_histogram(counts)"
   ]
  },
  {
   "cell_type": "markdown",
   "id": "J6lT36Gn9YuQ",
   "metadata": {
    "id": "J6lT36Gn9YuQ",
    "jp-MarkdownHeadingCollapsed": true,
    "tags": []
   },
   "source": [
    "## **[OPTIONAL] Part 3: Extra Problems**\n",
    "---"
   ]
  },
  {
   "cell_type": "markdown",
   "id": "oSdm70wdigbN",
   "metadata": {
    "id": "oSdm70wdigbN"
   },
   "source": [
    "If you would like additional practice, try the problems below. **Note: these problems are optional.**"
   ]
  },
  {
   "cell_type": "markdown",
   "id": "rukWvsvcAj6b",
   "metadata": {
    "id": "rukWvsvcAj6b"
   },
   "source": [
    "#### **Exercise #1** \n",
    "\n",
    "Create and draw a 2-qubit/2-classical bit circuit in which you apply the gates listed below and measure the qubits. Run the simulator code below to see what measurements results you get.\n",
    "\n",
    "**Gates (in the order listed)**:\n",
    "\n",
    "**Z on qubit 0**\n",
    "\n",
    "**H on qubit 0**\n",
    "\n",
    "**H on qubit 1**"
   ]
  },
  {
   "cell_type": "code",
   "execution_count": null,
   "id": "XFlLYHcSAj6c",
   "metadata": {
    "id": "XFlLYHcSAj6c"
   },
   "outputs": [],
   "source": []
  },
  {
   "cell_type": "code",
   "execution_count": null,
   "id": "VVOeM4A0Aj6c",
   "metadata": {
    "id": "VVOeM4A0Aj6c"
   },
   "outputs": [],
   "source": [
    "# Simulate using QASM\n",
    "backend = Aer.get_backend('qasm_simulator')\n",
    "job = execute(qc, backend = backend, shots = 1024)  # Make sure you change \"qc\" to the name of your quantum circuit in this line!\n",
    "result = job.result()\n",
    "counts = result.get_counts()\n",
    "plot_histogram(counts)"
   ]
  },
  {
   "cell_type": "markdown",
   "id": "3y45nAvVAW7z",
   "metadata": {
    "id": "3y45nAvVAW7z"
   },
   "source": [
    "#### **Exercise #2** \n",
    "\n",
    "Create and draw a 2-qubit/2-classical bit circuit in which you apply the gates listed below and measure the qubits. Run the simulator code below to see what measurements results you get.\n",
    "\n",
    "**Gates (in the order listed)**:\n",
    "\n",
    "**H on qubit 0**\n",
    "\n",
    "**H on qubit 1**\n",
    "\n",
    "**Z on qubit 0**"
   ]
  },
  {
   "cell_type": "code",
   "execution_count": null,
   "id": "35KbCbP5AW79",
   "metadata": {
    "id": "35KbCbP5AW79"
   },
   "outputs": [],
   "source": []
  },
  {
   "cell_type": "code",
   "execution_count": null,
   "id": "MwTuYfiOAW79",
   "metadata": {
    "id": "MwTuYfiOAW79"
   },
   "outputs": [],
   "source": [
    "# Simulate using QASM\n",
    "backend = Aer.get_backend('qasm_simulator')\n",
    "job = execute(qc, backend = backend, shots = 1024)  # Make sure you change \"qc\" to the name of your quantum circuit in this line!\n",
    "result = job.result()\n",
    "counts = result.get_counts()\n",
    "plot_histogram(counts)"
   ]
  },
  {
   "cell_type": "markdown",
   "id": "S0wboSoH9eZ_",
   "metadata": {
    "id": "S0wboSoH9eZ_"
   },
   "source": [
    "#### **Exercise #3** \n",
    "\n",
    "Create and draw a 2-qubit/2-classical bit circuit in which you apply the gates listed below and measure the qubits. Run the simulator code below to see what measurements results you get.\n",
    "\n",
    "**Gates (in the order listed)**:\n",
    "\n",
    "**H on qubit 0**\n",
    "\n",
    "**CX with qubit 0 as the control qubit and qubit 1 as the target qubit**\n",
    "\n",
    "**Z on qubit 0**"
   ]
  },
  {
   "cell_type": "code",
   "execution_count": null,
   "id": "HkeldR089eaC",
   "metadata": {
    "id": "HkeldR089eaC"
   },
   "outputs": [],
   "source": []
  },
  {
   "cell_type": "code",
   "execution_count": null,
   "id": "msdyn5l_9eaD",
   "metadata": {
    "id": "msdyn5l_9eaD"
   },
   "outputs": [],
   "source": [
    "# Simulate using QASM\n",
    "backend = Aer.get_backend('qasm_simulator')\n",
    "job = execute(qc, backend = backend, shots = 1024)  # Make sure you change \"qc\" to the name of your quantum circuit in this line!\n",
    "result = job.result()\n",
    "counts = result.get_counts()\n",
    "plot_histogram(counts)"
   ]
  },
  {
   "cell_type": "markdown",
   "id": "c4NlWwAq9w-s",
   "metadata": {
    "id": "c4NlWwAq9w-s"
   },
   "source": [
    "#### **Exercise #4** \n",
    "\n",
    "Create and draw a 2-qubit/2-classical bit circuit in which you apply the gates listed below and measure the qubits. Run the simulator code below to see what measurements results you get.\n",
    "\n",
    "**Gates (in the order listed)**:\n",
    "\n",
    "**X on qubit 0**\n",
    "\n",
    "**H on qubit 0**\n",
    "\n",
    "**H on qubit 1**\n",
    "\n",
    "**CX with qubit 0 as the control qubit and qubit 1 as the target qubit**\n",
    "\n",
    "**H on qubit 0**"
   ]
  },
  {
   "cell_type": "code",
   "execution_count": null,
   "id": "rZ0uTPGo9w-t",
   "metadata": {
    "id": "rZ0uTPGo9w-t"
   },
   "outputs": [],
   "source": []
  },
  {
   "cell_type": "code",
   "execution_count": null,
   "id": "tKhhwOO69w-t",
   "metadata": {
    "id": "tKhhwOO69w-t"
   },
   "outputs": [],
   "source": [
    "# Simulate using QASM\n",
    "backend = Aer.get_backend('qasm_simulator')\n",
    "job = execute(qc, backend = backend, shots = 1024)  # Make sure you change \"qc\" to the name of your quantum circuit in this line!\n",
    "result = job.result()\n",
    "counts = result.get_counts()\n",
    "plot_histogram(counts)"
   ]
  },
  {
   "cell_type": "markdown",
   "id": "3PNxvlJ0-W3E",
   "metadata": {
    "id": "3PNxvlJ0-W3E"
   },
   "source": [
    "#### **Exercise #5** \n",
    "\n",
    "Create and draw a 2-qubit/2-classical bit circuit in which you apply the gates listed below and measure the qubits. Run the simulator code below to see what measurements results you get.\n",
    "\n",
    "**Gates (in the order listed)**:\n",
    "\n",
    "**H on qubit 0**\n",
    "\n",
    "**H on qubit 1**\n",
    "\n",
    "**X on qubit 0**\n",
    "\n",
    "**CX with qubit 0 as the control qubit and qubit 1 as the target qubit**\n",
    "\n",
    "**H on qubit 0**"
   ]
  },
  {
   "cell_type": "code",
   "execution_count": null,
   "id": "aQdH5yqc-W3E",
   "metadata": {
    "id": "aQdH5yqc-W3E"
   },
   "outputs": [],
   "source": []
  },
  {
   "cell_type": "code",
   "execution_count": null,
   "id": "rY_L7OLk-W3F",
   "metadata": {
    "id": "rY_L7OLk-W3F"
   },
   "outputs": [],
   "source": [
    "# Simulate using QASM\n",
    "backend = Aer.get_backend('qasm_simulator')\n",
    "job = execute(qc, backend = backend, shots = 1024)  # Make sure you change \"qc\" to the name of your quantum circuit in this line!\n",
    "result = job.result()\n",
    "counts = result.get_counts()\n",
    "plot_histogram(counts)"
   ]
  },
  {
   "cell_type": "markdown",
   "id": "akwlyZVM-cUf",
   "metadata": {
    "id": "akwlyZVM-cUf"
   },
   "source": [
    "#### **Exercise #6** \n",
    "\n",
    "Create and draw a **2-qubit/1-classical bit circuit** in which you apply the gates listed below and measure the qubits. Run the simulator code below to see what measurements results you get. **Only measure the state of qubit 0.**\n",
    "\n",
    "**Gates (in the order listed)**:\n",
    "\n",
    "**H on qubit 0**\n",
    "\n",
    "**H on qubit 1**\n",
    "\n",
    "**X on qubit 0**\n",
    "\n",
    "**CX with qubit 0 as the control qubit and qubit 1 as the target qubit**\n",
    "\n",
    "**H on qubit 0**"
   ]
  },
  {
   "cell_type": "code",
   "execution_count": null,
   "id": "YUCwY6Un-cUg",
   "metadata": {
    "id": "YUCwY6Un-cUg"
   },
   "outputs": [],
   "source": []
  },
  {
   "cell_type": "code",
   "execution_count": null,
   "id": "X6Dc7RSC-cUg",
   "metadata": {
    "id": "X6Dc7RSC-cUg"
   },
   "outputs": [],
   "source": [
    "# Simulate using QASM\n",
    "backend = Aer.get_backend('qasm_simulator')\n",
    "job = execute(qc, backend = backend, shots = 1024)  # Make sure you change \"qc\" to the name of your quantum circuit in this line!\n",
    "result = job.result()\n",
    "counts = result.get_counts()\n",
    "plot_histogram(counts)"
   ]
  },
  {
   "cell_type": "markdown",
   "id": "8jQl-SBl_GhL",
   "metadata": {
    "id": "8jQl-SBl_GhL"
   },
   "source": [
    "#### **Exercise #7** \n",
    "\n",
    "Create and draw a **3-qubit/3-classical bit circuit** in which you apply the gates listed below and measure the qubits. Run the simulator code below to see what measurements results you get. **Measure the state of all 3 qubits.**\n",
    "\n",
    "**Gates (in the order listed)**:\n",
    "\n",
    "**H on qubit 0**\n",
    "\n",
    "**H on qubit 1**\n",
    "\n",
    "**H on qubit 2**\n",
    "\n",
    "**CX with qubit 0 as the control qubit and qubit 1 as the target qubit**"
   ]
  },
  {
   "cell_type": "code",
   "execution_count": null,
   "id": "n_hj-gTJ_GhM",
   "metadata": {
    "id": "n_hj-gTJ_GhM"
   },
   "outputs": [],
   "source": []
  },
  {
   "cell_type": "code",
   "execution_count": null,
   "id": "zO6ML7g-_GhN",
   "metadata": {
    "id": "zO6ML7g-_GhN"
   },
   "outputs": [],
   "source": [
    "# Simulate using QASM\n",
    "backend = Aer.get_backend('qasm_simulator')\n",
    "job = execute(qc, backend = backend, shots = 1024)  # Make sure you change \"qc\" to the name of your quantum circuit in this line!\n",
    "result = job.result()\n",
    "counts = result.get_counts()\n",
    "plot_histogram(counts)"
   ]
  },
  {
   "cell_type": "markdown",
   "id": "KiK6SV4r_jfM",
   "metadata": {
    "id": "KiK6SV4r_jfM"
   },
   "source": [
    "#### **Exercise #8** \n",
    "\n",
    "Create and draw a **3-qubit/3-classical bit circuit** in which you apply the gates listed below and measure the qubits. Run the simulator code below to see what measurements results you get. **Measure the state of all 3 qubits.**\n",
    "\n",
    "**Gates (in the order listed)**:\n",
    "\n",
    "**H on qubit 0**\n",
    "\n",
    "**H on qubit 1**\n",
    "\n",
    "**H on qubit 2**\n",
    "\n",
    "**CX with qubit 0 as the control qubit and qubit 1 as the target qubit**\n",
    "\n",
    "**CX with qubit 2 as the control qubit and qubit 0 as the target qubit**"
   ]
  },
  {
   "cell_type": "code",
   "execution_count": null,
   "id": "QaUSmEn6_jfW",
   "metadata": {
    "id": "QaUSmEn6_jfW"
   },
   "outputs": [],
   "source": []
  },
  {
   "cell_type": "code",
   "execution_count": null,
   "id": "T58p5iIi_jfX",
   "metadata": {
    "id": "T58p5iIi_jfX"
   },
   "outputs": [],
   "source": [
    "# Simulate using QASM\n",
    "backend = Aer.get_backend('qasm_simulator')\n",
    "job = execute(qc, backend = backend, shots = 1024)  # Make sure you change \"qc\" to the name of your quantum circuit in this line!\n",
    "result = job.result()\n",
    "counts = result.get_counts()\n",
    "plot_histogram(counts)"
   ]
  },
  {
   "cell_type": "markdown",
   "id": "b6FPI825_siJ",
   "metadata": {
    "id": "b6FPI825_siJ"
   },
   "source": [
    "#### **Exercise #9** \n",
    "\n",
    "Create and draw a **3-qubit/3-classical bit circuit** in which you apply the gates listed below and measure the qubits. Run the simulator code below to see what measurements results you get. **Measure the state of all 3 qubits.**\n",
    "\n",
    "**Gates (in the order listed)**:\n",
    "\n",
    "**H on qubit 0**\n",
    "\n",
    "**CX with qubit 0 as the control qubit and qubit 1 as the target qubit**\n",
    "\n",
    "**CX with qubit 1 as the control qubit and qubit 2 as the target qubit**\n",
    "\n",
    "**CX with qubit 2 as the control qubit and qubit 0 as the target qubit**"
   ]
  },
  {
   "cell_type": "code",
   "execution_count": null,
   "id": "kt_x22Vn_siK",
   "metadata": {
    "id": "kt_x22Vn_siK"
   },
   "outputs": [],
   "source": []
  },
  {
   "cell_type": "code",
   "execution_count": null,
   "id": "vKHQpgJ__siK",
   "metadata": {
    "id": "vKHQpgJ__siK"
   },
   "outputs": [],
   "source": [
    "# Simulate using QASM\n",
    "backend = Aer.get_backend('qasm_simulator')\n",
    "job = execute(qc, backend = backend, shots = 1024)  # Make sure you change \"qc\" to the name of your quantum circuit in this line!\n",
    "result = job.result()\n",
    "counts = result.get_counts()\n",
    "plot_histogram(counts)"
   ]
  },
  {
   "cell_type": "markdown",
   "id": "UKs02mne-v-u",
   "metadata": {
    "id": "UKs02mne-v-u"
   },
   "source": [
    "#### **[CHALLENGE] Exercise #10** \n",
    "\n",
    "Create and draw a **1-qubit/2-classical bit circuit** in which you apply the gates listed below and measure the qubits. Run the simulator code below to see what measurements results you get. **Measure the state of qubit 0 to both classical bits.**\n",
    "\n",
    "**Gates (in the order listed)**:\n",
    "\n",
    "**H on qubit 0**\n",
    "\n",
    "**Z on qubit 0**"
   ]
  },
  {
   "cell_type": "code",
   "execution_count": null,
   "id": "GwRQc1pI-v-v",
   "metadata": {
    "id": "GwRQc1pI-v-v"
   },
   "outputs": [],
   "source": []
  },
  {
   "cell_type": "code",
   "execution_count": null,
   "id": "aY1cpkHI-v-v",
   "metadata": {
    "id": "aY1cpkHI-v-v"
   },
   "outputs": [],
   "source": [
    "# Simulate using QASM\n",
    "backend = Aer.get_backend('qasm_simulator')\n",
    "job = execute(qc, backend = backend, shots = 1024)  # Make sure you change \"qc\" to the name of your quantum circuit in this line!\n",
    "result = job.result()\n",
    "counts = result.get_counts()\n",
    "plot_histogram(counts)"
   ]
  },
  {
   "cell_type": "markdown",
   "id": "Z_6rE2cz9eaD",
   "metadata": {
    "id": "Z_6rE2cz9eaD"
   },
   "source": [
    "---\n",
    "© 2022 The Coding School, All rights reserved"
   ]
  }
 ],
 "metadata": {
  "colab": {
   "collapsed_sections": [],
   "provenance": []
  },
  "kernelspec": {
   "display_name": "Python 3 (ipykernel)",
   "language": "python",
   "name": "python3"
  },
  "language_info": {
   "codemirror_mode": {
    "name": "ipython",
    "version": 3
   },
   "file_extension": ".py",
   "mimetype": "text/x-python",
   "name": "python",
   "nbconvert_exporter": "python",
   "pygments_lexer": "ipython3",
   "version": "3.8.13"
  },
  "widgets": {
   "application/vnd.jupyter.widget-state+json": {
    "state": {},
    "version_major": 2,
    "version_minor": 0
   }
  }
 },
 "nbformat": 4,
 "nbformat_minor": 5
}
